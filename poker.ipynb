{
 "cells": [
  {
   "cell_type": "code",
   "execution_count": 1,
   "metadata": {},
   "outputs": [],
   "source": [
    "class Card:\n",
    "    suits = ['\\u2666', '\\u2665', '\\u2663', '\\u2660']\n",
    "    ranks = [\"2\", \"3\", \"4\", \"5\", \"6\", \"7\", \"8\", \"9\", \"10\", \"J\", \"Q\", \"K\", \"A\"]\n",
    "    \n",
    "    def __init__(self, suit, rank):\n",
    "        self.suit = suit\n",
    "        self.rank = rank\n",
    "        \n",
    "    def __str__(self):\n",
    "        return f\"{Card.ranks[self.rank]}{Card.suits[self.suit]}\"\n",
    "\n",
    "    def __lt__(self, other):\n",
    "        if self.rank == other.rank:\n",
    "            return self.suit < other.suit\n",
    "        else: self.rank < other.suit\n",
    "\n"
   ]
  },
  {
   "cell_type": "code",
   "execution_count": 2,
   "metadata": {},
   "outputs": [],
   "source": [
    "c1 = Card(0, 0)\n",
    "c2 = Card(1, 1)"
   ]
  },
  {
   "cell_type": "code",
   "execution_count": 3,
   "metadata": {},
   "outputs": [
    {
     "name": "stdout",
     "output_type": "stream",
     "text": [
      "2♦ 3♥\n"
     ]
    }
   ],
   "source": [
    "print(c1, c2)"
   ]
  },
  {
   "cell_type": "code",
   "execution_count": 83,
   "metadata": {},
   "outputs": [],
   "source": [
    "class Deck:\n",
    "    def __init__(self):\n",
    "        self.deck = []\n",
    "        for suit in range(4):\n",
    "            for rank in range(13):\n",
    "                self.deck.append(Card(suit, rank))\n",
    "        self.shuffle()\n",
    "    def __len__(self):\n",
    "        return len(self.deck)\n",
    "    \n",
    "    def add_card(self, card):\n",
    "        self.deck.append(card)\n",
    "    \n",
    "    def pop_card(self):\n",
    "        return self.deck.pop()\n",
    "    \n",
    "    def shuffle(self):\n",
    "        random.shuffle(self.deck)\n"
   ]
  },
  {
   "cell_type": "code",
   "execution_count": 87,
   "metadata": {},
   "outputs": [
    {
     "name": "stdout",
     "output_type": "stream",
     "text": [
      "2♥\n"
     ]
    }
   ],
   "source": [
    "deck = Deck()\n",
    "print(deck.pop_card())\n"
   ]
  },
  {
   "cell_type": "code",
   "execution_count": 92,
   "metadata": {},
   "outputs": [],
   "source": [
    "class Hand(Deck):\n",
    "    def __init__(self, label):\n",
    "        self.deck = []\n",
    "        self.label = label\n",
    "        self.win_count = 0 \n",
    "\n",
    "    def __str__(self):\n",
    "        return self.label + \": \" + ''.join([str(card) for card in self.deck])\n",
    "\n",
    "    def get_label(self):\n",
    "        return self.label\n",
    "    \n",
    "    def get_win_count(self):\n",
    "        return self.win_count\n",
    "    \n",
    "    def round_winner(self):\n",
    "        self.win_count = self.win_count + 1"
   ]
  },
  {
   "cell_type": "code",
   "execution_count": 93,
   "metadata": {},
   "outputs": [
    {
     "name": "stdout",
     "output_type": "stream",
     "text": [
      "Player 2\n"
     ]
    }
   ],
   "source": [
    "hand = Hand(\"Player\")\n",
    "\n",
    "hand.round_winner()\n",
    "hand.round_winner()\n",
    "\n",
    "print(hand.get_label(), hand.get_win_count(j))\n",
    "\n"
   ]
  },
  {
   "cell_type": "code",
   "execution_count": 58,
   "metadata": {},
   "outputs": [],
   "source": [
    "import random "
   ]
  }
 ],
 "metadata": {
  "interpreter": {
   "hash": "31f2aee4e71d21fbe5cf8b01ff0e069b9275f58929596ceb00d14d90e3e16cd6"
  },
  "kernelspec": {
   "display_name": "Python 3.9.7 64-bit",
   "language": "python",
   "name": "python3"
  },
  "language_info": {
   "codemirror_mode": {
    "name": "ipython",
    "version": 3
   },
   "file_extension": ".py",
   "mimetype": "text/x-python",
   "name": "python",
   "nbconvert_exporter": "python",
   "pygments_lexer": "ipython3",
   "version": "3.9.7"
  },
  "orig_nbformat": 4
 },
 "nbformat": 4,
 "nbformat_minor": 2
}
